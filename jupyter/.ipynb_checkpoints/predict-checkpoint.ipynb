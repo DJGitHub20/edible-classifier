{
 "cells": [
  {
   "cell_type": "markdown",
   "id": "02e535ed",
   "metadata": {},
   "source": [
    "# Test Notebook for Image Classification Project"
   ]
  },
  {
   "cell_type": "code",
   "execution_count": 1,
   "id": "30d96e70",
   "metadata": {},
   "outputs": [],
   "source": [
    "# Imports\n",
    "import tensorflow as tf\n",
    "from PIL import Image\n",
    "import numpy as np"
   ]
  },
  {
   "cell_type": "code",
   "execution_count": 14,
   "id": "db38d33c",
   "metadata": {},
   "outputs": [],
   "source": [
    "def load_model():\n",
    "    # Load a pretrained deep learning model suitable for mobile applications\n",
    "    model = tf.keras.applications.MobileNetV2(weights='imagenet')\n",
    "    return model\n",
    "\n",
    "def preprocess_image(image_path):\n",
    "    # Use Keras API functions to preprocess the image to be classified\n",
    "    img = tf.keras.utils.load_img(image_path, target_size=(224, 224), color_mode='rgb')\n",
    "    img_array = tf.keras.preprocessing.image.img_to_array(img)\n",
    "    img_array = tf.keras.applications.mobilenet_v2.preprocess_input(img_array)\n",
    "    return np.expand_dims(img_array, axis=0)\n",
    "\n",
    "def predict_edible(image_path, model):\n",
    "    # Get set of raw predictions, then determine whether top result is edible\n",
    "    img = preprocess_image(image_path)\n",
    "    predictions = model.predict(img)\n",
    "    decoded = tf.keras.applications.mobilenet_v2.decode_predictions(predictions)[0]\n",
    "    print(decoded)\n",
    "    food_classes = ['apple', 'pizza']\n",
    "    top_prediction = decoded[0][1] # Get class name for top result\n",
    "    print(top_prediction)\n",
    "    return top_prediction in food_classes"
   ]
  },
  {
   "cell_type": "code",
   "execution_count": 15,
   "id": "1358863b",
   "metadata": {},
   "outputs": [
    {
     "name": "stdout",
     "output_type": "stream",
     "text": [
      "\u001b[1m1/1\u001b[0m \u001b[32m━━━━━━━━━━━━━━━━━━━━\u001b[0m\u001b[37m\u001b[0m \u001b[1m1s\u001b[0m 1s/step\n",
      "[('n04409515', 'tennis_ball', np.float32(0.26966155)), ('n07747607', 'orange', np.float32(0.13549817)), ('n07749582', 'lemon', np.float32(0.051629215)), ('n07768694', 'pomegranate', np.float32(0.019475946)), ('n03950228', 'pitcher', np.float32(0.014982781))]\n",
      "tennis_ball\n"
     ]
    },
    {
     "data": {
      "text/plain": [
       "False"
      ]
     },
     "execution_count": 15,
     "metadata": {},
     "output_type": "execute_result"
    }
   ],
   "source": [
    "model = load_model()\n",
    "predict_edible('C:/Users/mailr/code/edible-classifier/test-images/apple.png', model)"
   ]
  },
  {
   "cell_type": "code",
   "execution_count": null,
   "id": "c9f54135",
   "metadata": {},
   "outputs": [],
   "source": []
  }
 ],
 "metadata": {
  "kernelspec": {
   "display_name": "Python 3 (ipykernel)",
   "language": "python",
   "name": "python3"
  },
  "language_info": {
   "codemirror_mode": {
    "name": "ipython",
    "version": 3
   },
   "file_extension": ".py",
   "mimetype": "text/x-python",
   "name": "python",
   "nbconvert_exporter": "python",
   "pygments_lexer": "ipython3",
   "version": "3.11.4"
  }
 },
 "nbformat": 4,
 "nbformat_minor": 5
}
